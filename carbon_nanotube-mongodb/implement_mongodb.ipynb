{
 "cells": [
  {
   "cell_type": "markdown",
   "id": "384387cb",
   "metadata": {},
   "source": [
    "## creating logging"
   ]
  },
  {
   "cell_type": "code",
   "execution_count": 2,
   "id": "3b482906",
   "metadata": {},
   "outputs": [],
   "source": [
    "import logging as lg\n",
    "lg.basicConfig(filename='mongodb.log', level=lg.INFO, format='%(asctime)s %(levelname)s %(message)s')"
   ]
  },
  {
   "cell_type": "markdown",
   "id": "7eb713d5",
   "metadata": {},
   "source": [
    "## import module"
   ]
  },
  {
   "cell_type": "code",
   "execution_count": 3,
   "id": "bbf85bc9",
   "metadata": {},
   "outputs": [],
   "source": [
    "from mongodb.mongodbops import MongoDbOperation"
   ]
  },
  {
   "cell_type": "markdown",
   "id": "267fc7d8",
   "metadata": {},
   "source": [
    "## creating object"
   ]
  },
  {
   "cell_type": "code",
   "execution_count": 4,
   "id": "818f0980",
   "metadata": {},
   "outputs": [],
   "source": [
    "try:\n",
    "    mongoobj=MongoDbOperation('mongodb','mongodb')\n",
    "    lg.info(\"initialized the process\")\n",
    "except Exception as e:\n",
    "    print(e)\n",
    "    lg.exception(e)"
   ]
  },
  {
   "cell_type": "markdown",
   "id": "6e61b35d",
   "metadata": {},
   "source": [
    "## isDatabasePresent()"
   ]
  },
  {
   "cell_type": "code",
   "execution_count": 5,
   "id": "bb453b98",
   "metadata": {},
   "outputs": [
    {
     "name": "stdout",
     "output_type": "stream",
     "text": [
      "False\n"
     ]
    }
   ],
   "source": [
    "try:\n",
    "    msg=mongoobj.isDatabasePresent(dbName='mongo_project')\n",
    "    print(msg)\n",
    "    lg.info(f\"checking whether database present or not:{msg}\")\n",
    "except Exception as e:\n",
    "    print(e)\n",
    "    lg.exception(e)"
   ]
  },
  {
   "cell_type": "markdown",
   "id": "2308f6c2",
   "metadata": {},
   "source": [
    "## isCollectionPresent()"
   ]
  },
  {
   "cell_type": "code",
   "execution_count": 6,
   "id": "f261797a",
   "metadata": {},
   "outputs": [
    {
     "name": "stdout",
     "output_type": "stream",
     "text": [
      "False\n"
     ]
    }
   ],
   "source": [
    "try:\n",
    "    msg=mongoobj.isCollectionPresent(dbName='mongo_project', collectionName='carbon_nanotube')\n",
    "    print(msg)\n",
    "    lg.info(f\"checking whether collection present or not: {msg}\")\n",
    "except Exception as e:\n",
    "    print(e)\n",
    "    lg.exception(e)"
   ]
  },
  {
   "cell_type": "markdown",
   "id": "7ef1a5fb",
   "metadata": {},
   "source": [
    "## createDatabase()"
   ]
  },
  {
   "cell_type": "code",
   "execution_count": 7,
   "id": "c2b5d3c5",
   "metadata": {},
   "outputs": [
    {
     "name": "stdout",
     "output_type": "stream",
     "text": [
      "DB:mongo_project created successfully\n"
     ]
    }
   ],
   "source": [
    "try:\n",
    "    msg=mongoobj.createDatabase(dbName='mongo_project')\n",
    "    print(msg)\n",
    "    lg.info(f\"creating database: {msg}\")\n",
    "    \n",
    "except Exception as e:\n",
    "    print(e)\n",
    "    lg.exception(e)"
   ]
  },
  {
   "cell_type": "markdown",
   "id": "c935632e",
   "metadata": {},
   "source": [
    "## createCollection()"
   ]
  },
  {
   "cell_type": "code",
   "execution_count": 8,
   "id": "20d8bf0b",
   "metadata": {},
   "outputs": [
    {
     "name": "stdout",
     "output_type": "stream",
     "text": [
      "Collection:carbon_nanotube in DB:mongo_project created successfully\n"
     ]
    }
   ],
   "source": [
    "try:\n",
    "    msg=mongoobj.createCollection(dbName='mongo_project', collectionName='carbon_nanotube')\n",
    "    print(msg)\n",
    "    lg.info(f\"craeteCollection():{msg}\")\n",
    "except Exception as e:\n",
    "    print(e)\n",
    "    lg.exception(e)"
   ]
  },
  {
   "cell_type": "markdown",
   "id": "db1c652a",
   "metadata": {},
   "source": [
    "## insertOneData()"
   ]
  },
  {
   "cell_type": "code",
   "execution_count": 9,
   "id": "48de8518",
   "metadata": {},
   "outputs": [
    {
     "name": "stdout",
     "output_type": "stream",
     "text": [
      "Data inserted into Collection:carbon_nanotube of Database:mongo_project\n"
     ]
    }
   ],
   "source": [
    "try:\n",
    "    data={'Chiral indice n': '3', 'Chiral indice m': '1', 'Initial atomic coordinate u': '0,732854', 'Initial atomic coordinate v': '0,724426', 'Initial atomic coordinate w': '0,123192', \"Calculated atomic coordinates u'\": '0,754953', \"Calculated atomic coordinates v'\": '0,742501', \"Calculated atomic coordinates w'\": '0,123074'}\n",
    "    msg=mongoobj.insertOneData(dbName='mongo_project', collectionName='carbon_nanotube', data=data)\n",
    "    print(msg)\n",
    "    lg.info(f'insertOneData()-{msg}')\n",
    "except Exception as e:\n",
    "    print(e)\n",
    "    lg.exception(e)"
   ]
  },
  {
   "cell_type": "markdown",
   "id": "8655cb18",
   "metadata": {},
   "source": [
    "## insertManyData()"
   ]
  },
  {
   "cell_type": "code",
   "execution_count": 10,
   "id": "86298203",
   "metadata": {},
   "outputs": [
    {
     "name": "stdout",
     "output_type": "stream",
     "text": [
      "Data inserted into Collection:carbon_nanotube of Database:mongo_project\n"
     ]
    }
   ],
   "source": [
    "try:\n",
    "    data=[{'Chiral indice n': '3', 'Chiral indice m': '1', 'Initial atomic coordinate u': '0,732854', 'Initial atomic coordinate v': '0,724426', 'Initial atomic coordinate w': '0,123192', \"Calculated atomic coordinates u'\": '0,754953', \"Calculated atomic coordinates v'\": '0,742501', \"Calculated atomic coordinates w'\": '0,123074'},\n",
    "         {'Chiral indice n': '2', 'Chiral indice m': '5', 'Initial atomic coordinate u': '0,334292', 'Initial atomic coordinate v': '0,543401', 'Initial atomic coordinate w': '0,15989', \"Calculated atomic coordinates u'\": '0,303349', \"Calculated atomic coordinates v'\": '0,558807', \"Calculated atomic coordinates w'\": '0,157373'},\n",
    "         {'Chiral indice n': '2', 'Chiral indice m': '1', 'Initial atomic coordinate u': '0,413957', 'Initial atomic coordinate v': '0,632996', 'Initial atomic coordinate w': '0,040843', \"Calculated atomic coordinates u'\": '0,408823', \"Calculated atomic coordinates v'\": '0,657897', \"Calculated atomic coordinates w'\": '0,039796'}]\n",
    "    msg=mongoobj.insertManyData(dbName='mongo_project', collectionName='carbon_nanotube', data=data)\n",
    "    print(msg)\n",
    "    lg.info(f'insertManyData()-{msg}')\n",
    "except Exception as e:\n",
    "    print(e)\n",
    "    lg.exception(e)"
   ]
  },
  {
   "cell_type": "markdown",
   "id": "568b883c",
   "metadata": {},
   "source": [
    "## uploadDataset()"
   ]
  },
  {
   "cell_type": "code",
   "execution_count": 11,
   "id": "159b35e2",
   "metadata": {},
   "outputs": [
    {
     "name": "stdout",
     "output_type": "stream",
     "text": [
      "Dataset:carbon_nanotubes.csv uploaded successfully in Collection:carbon_nanotube of Database:mongo_project\n"
     ]
    }
   ],
   "source": [
    "try:\n",
    "    msg=mongoobj.uploadDataset(dataset='carbon_nanotubes.csv', dbName='mongo_project', collectionName='carbon_nanotube')\n",
    "    print(msg)\n",
    "    lg.info(f\"uploadDataset():{msg}\")\n",
    "except Exception as e:\n",
    "    print(e)\n",
    "    lg.exception(e)"
   ]
  },
  {
   "cell_type": "markdown",
   "id": "2ae4108f",
   "metadata": {},
   "source": [
    "## getData()"
   ]
  },
  {
   "cell_type": "code",
   "execution_count": 12,
   "id": "0cc0592a",
   "metadata": {},
   "outputs": [
    {
     "name": "stdout",
     "output_type": "stream",
     "text": [
      "1 {'_id': ObjectId('621702ab55c4125e1b880968'), 'Chiral indice n': '3', 'Chiral indice m': '1', 'Initial atomic coordinate u': '0,732854', 'Initial atomic coordinate v': '0,724426', 'Initial atomic coordinate w': '0,123192', \"Calculated atomic coordinates u'\": '0,754953', \"Calculated atomic coordinates v'\": '0,742501', \"Calculated atomic coordinates w'\": '0,123074'}\n",
      "2 {'_id': ObjectId('621702ae55c4125e1b88096a'), 'Chiral indice n': '3', 'Chiral indice m': '1', 'Initial atomic coordinate u': '0,732854', 'Initial atomic coordinate v': '0,724426', 'Initial atomic coordinate w': '0,123192', \"Calculated atomic coordinates u'\": '0,754953', \"Calculated atomic coordinates v'\": '0,742501', \"Calculated atomic coordinates w'\": '0,123074'}\n",
      "3 {'_id': ObjectId('621702ae55c4125e1b88096b'), 'Chiral indice n': '2', 'Chiral indice m': '5', 'Initial atomic coordinate u': '0,334292', 'Initial atomic coordinate v': '0,543401', 'Initial atomic coordinate w': '0,15989', \"Calculated atomic coordinates u'\": '0,303349', \"Calculated atomic coordinates v'\": '0,558807', \"Calculated atomic coordinates w'\": '0,157373'}\n",
      "4 {'_id': ObjectId('621702ae55c4125e1b88096c'), 'Chiral indice n': '2', 'Chiral indice m': '1', 'Initial atomic coordinate u': '0,413957', 'Initial atomic coordinate v': '0,632996', 'Initial atomic coordinate w': '0,040843', \"Calculated atomic coordinates u'\": '0,408823', \"Calculated atomic coordinates v'\": '0,657897', \"Calculated atomic coordinates w'\": '0,039796'}\n",
      "5 {'_id': ObjectId('621702b055c4125e1b88096e'), 'Chiral indice n': '2', 'Chiral indice m': '1', 'Initial atomic coordinate u': '0,717298', 'Initial atomic coordinate v': '0,642129', 'Initial atomic coordinate w': '0,231319', \"Calculated atomic coordinates u'\": '0,738414', \"Calculated atomic coordinates v'\": '0,65675', \"Calculated atomic coordinates w'\": '0,232369'}\n"
     ]
    }
   ],
   "source": [
    "try:\n",
    "    data=mongoobj.getData(dbName='mongo_project', collectionName='carbon_nanotube', limit=5)\n",
    "    lg.info(f'Returned data: {data}')\n",
    "    for idx, val in enumerate(data):\n",
    "        print(idx+1, val)\n",
    "except Exception as e:\n",
    "    print(e)\n",
    "    lg.exception(e)"
   ]
  },
  {
   "cell_type": "markdown",
   "id": "0d7bdcef",
   "metadata": {},
   "source": [
    "## filter()"
   ]
  },
  {
   "cell_type": "code",
   "execution_count": 13,
   "id": "bf592558",
   "metadata": {},
   "outputs": [
    {
     "name": "stdout",
     "output_type": "stream",
     "text": [
      "1 {'_id': ObjectId('621702ab55c4125e1b880968'), 'Chiral indice n': '3', 'Chiral indice m': '1', 'Initial atomic coordinate u': '0,732854', 'Initial atomic coordinate v': '0,724426', 'Initial atomic coordinate w': '0,123192', \"Calculated atomic coordinates u'\": '0,754953', \"Calculated atomic coordinates v'\": '0,742501', \"Calculated atomic coordinates w'\": '0,123074'}\n",
      "2 {'_id': ObjectId('621702ae55c4125e1b88096a'), 'Chiral indice n': '3', 'Chiral indice m': '1', 'Initial atomic coordinate u': '0,732854', 'Initial atomic coordinate v': '0,724426', 'Initial atomic coordinate w': '0,123192', \"Calculated atomic coordinates u'\": '0,754953', \"Calculated atomic coordinates v'\": '0,742501', \"Calculated atomic coordinates w'\": '0,123074'}\n",
      "3 {'_id': ObjectId('621702b055c4125e1b880989'), 'Chiral indice n': '3', 'Chiral indice m': '1', 'Initial atomic coordinate u': '0,591598', 'Initial atomic coordinate v': '0,760361', 'Initial atomic coordinate w': '0,05909', \"Calculated atomic coordinates u'\": '0,59912', \"Calculated atomic coordinates v'\": '0,779052', \"Calculated atomic coordinates w'\": '0,058651'}\n",
      "4 {'_id': ObjectId('621702b055c4125e1b88098a'), 'Chiral indice n': '3', 'Chiral indice m': '1', 'Initial atomic coordinate u': '0,24301', 'Initial atomic coordinate v': '0,424391', 'Initial atomic coordinate w': '0,020628', \"Calculated atomic coordinates u'\": '0,222068', \"Calculated atomic coordinates v'\": '0,414703', \"Calculated atomic coordinates w'\": '0,020882'}\n",
      "5 {'_id': ObjectId('621702b055c4125e1b88098b'), 'Chiral indice n': '3', 'Chiral indice m': '1', 'Initial atomic coordinate u': '0,348135', 'Initial atomic coordinate v': '0,611237', 'Initial atomic coordinate w': '0,084731', \"Calculated atomic coordinates u'\": '0,337437', \"Calculated atomic coordinates v'\": '0,618899', \"Calculated atomic coordinates w'\": '0,085676'}\n"
     ]
    }
   ],
   "source": [
    "try:\n",
    "    condition={'Chiral indice n':{'$gt':'2'}}\n",
    "    data=mongoobj.filter(dbName='mongo_project', collectionName='carbon_nanotube',condition=condition, limit=5 )\n",
    "    lg.info(f'filtering data based on condition:{data}')\n",
    "    for idx, val in enumerate(data):\n",
    "        print(idx+1, val)\n",
    "except Exception as e:\n",
    "    print(e)\n",
    "    lg.exception(e)"
   ]
  },
  {
   "cell_type": "markdown",
   "id": "f307bd09",
   "metadata": {},
   "source": [
    "## updateOne()"
   ]
  },
  {
   "cell_type": "code",
   "execution_count": 14,
   "id": "2ab9b408",
   "metadata": {},
   "outputs": [
    {
     "name": "stdout",
     "output_type": "stream",
     "text": [
      "Dataset updated successfully\n"
     ]
    }
   ],
   "source": [
    "try:\n",
    "    present_data={'Chiral indice n': '2'}\n",
    "    new_data={'Chiral indice m': '5'}\n",
    "    msg=mongoobj.updateOne(dbName='mongo_project', collectionName='carbon_nanotube',present_data=present_data, new_data=new_data)\n",
    "    print(msg)\n",
    "    lg.info(f'updateOne()-{msg}')\n",
    "    mongoobj.filter(dbName='mongo_project', collectionName='carbon_nanotube', condition={'Chiral indice n': '2'}, limit=5)\n",
    "except Exception as e:\n",
    "    print(e)\n",
    "    lg.exception(e)"
   ]
  },
  {
   "cell_type": "markdown",
   "id": "736b91f3",
   "metadata": {},
   "source": [
    "## updateAll()"
   ]
  },
  {
   "cell_type": "code",
   "execution_count": 15,
   "id": "c2a61689",
   "metadata": {},
   "outputs": [
    {
     "name": "stdout",
     "output_type": "stream",
     "text": [
      "Dataset updated successfully\n"
     ]
    }
   ],
   "source": [
    "try:\n",
    "    present_data={'Chiral indice n': '2'}\n",
    "    new_data={'Chiral indice m': '5'}\n",
    "    msg=mongoobj.updateAll(dbName='mongo_project', collectionName='carbon_nanotube',present_data=present_data, new_data=new_data)\n",
    "    print(msg)\n",
    "    lg.info(f'updateAll()-{msg}')\n",
    "    mongoobj.filter(dbName='mongo_project', collectionName='carbon_nanotube', condition={'Chiral indice n': '2'}, limit=5)\n",
    "except Exception as e:\n",
    "    print(e)\n",
    "    lg.exception(e)"
   ]
  },
  {
   "cell_type": "markdown",
   "id": "cde5032a",
   "metadata": {},
   "source": [
    "## deleteOneRecord()"
   ]
  },
  {
   "cell_type": "code",
   "execution_count": 16,
   "id": "fae56191",
   "metadata": {},
   "outputs": [
    {
     "name": "stdout",
     "output_type": "stream",
     "text": [
      "One record based on condition:{'Chiral indice n': '2'} deleted\n"
     ]
    }
   ],
   "source": [
    "try:\n",
    "    msg=mongoobj.deleteOneRecord(dbName='mongo_project', collectionName='carbon_nanotube', condition={'Chiral indice n': '2'})\n",
    "    print(msg)\n",
    "    lg.info(f'deleteOneRecord()-{msg}')\n",
    "except Exception as e:\n",
    "    print(e)\n",
    "    lg.exception(e)"
   ]
  },
  {
   "cell_type": "markdown",
   "id": "f4cfcedc",
   "metadata": {},
   "source": [
    "## deleteAllRecord()"
   ]
  },
  {
   "cell_type": "code",
   "execution_count": 17,
   "id": "96847493",
   "metadata": {},
   "outputs": [
    {
     "name": "stdout",
     "output_type": "stream",
     "text": [
      "All record based on condition:{'Chiral indice n': '2'} deleted\n"
     ]
    }
   ],
   "source": [
    "try:\n",
    "    msg=mongoobj.deleteAllRecord(dbName='mongo_project', collectionName='carbon_nanotube', condition={'Chiral indice n': '2'})\n",
    "    print(msg)\n",
    "    lg.info(f'deleteAllRecord()-{msg}')\n",
    "    #cheacking whether all record present or not after delete\n",
    "    mongoobj.filter(dbName='mongo_project', collectionName='carbon_nanotube', condition={'Chiral indice n': '2'}, limit=5)\n",
    "except Exception as e:\n",
    "    print(e)\n",
    "    lg.exception(e)"
   ]
  },
  {
   "cell_type": "markdown",
   "id": "6dfa0e50",
   "metadata": {},
   "source": [
    "## dropCollection()"
   ]
  },
  {
   "cell_type": "code",
   "execution_count": 18,
   "id": "3c697b04",
   "metadata": {},
   "outputs": [
    {
     "name": "stdout",
     "output_type": "stream",
     "text": [
      "Collection:carbon_nanotube of Database:mongo_project dropped successfully\n",
      "False\n"
     ]
    }
   ],
   "source": [
    "try:\n",
    "    msg=mongoobj.dropCollection(dbName='mongo_project', collectionName='carbon_nanotube')\n",
    "    print(msg)\n",
    "    lg.info(f'dropCollection()-{msg}')\n",
    "    #checking collection present or not\n",
    "    print(mongoobj.isCollectionPresent(dbName='mongo_project', collectionName='carbon_nanotube'))\n",
    "except Exception as e:\n",
    "    print(e)\n",
    "    lg.exception(e)"
   ]
  },
  {
   "cell_type": "code",
   "execution_count": 29,
   "id": "da7d6881",
   "metadata": {},
   "outputs": [],
   "source": [
    "# try:\n",
    "#     msg=mongoobj.dropDatabase(dbName='mongo_project')\n",
    "#     print(msg)\n",
    "#     lg.info(f'dropDatabase()-{msg}')\n",
    "#     #checking database present or not\n",
    "#     print(mongoobj.isDatabasePresent(dbName='mongo_project'))\n",
    "# except Exception as e:\n",
    "#     print(e)\n",
    "#     lg.exception(e)"
   ]
  },
  {
   "cell_type": "code",
   "execution_count": null,
   "id": "6161e203",
   "metadata": {},
   "outputs": [],
   "source": []
  }
 ],
 "metadata": {
  "kernelspec": {
   "display_name": "Python 3 (ipykernel)",
   "language": "python",
   "name": "python3"
  },
  "language_info": {
   "codemirror_mode": {
    "name": "ipython",
    "version": 3
   },
   "file_extension": ".py",
   "mimetype": "text/x-python",
   "name": "python",
   "nbconvert_exporter": "python",
   "pygments_lexer": "ipython3",
   "version": "3.9.9"
  }
 },
 "nbformat": 4,
 "nbformat_minor": 5
}
