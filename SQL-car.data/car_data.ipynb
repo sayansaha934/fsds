{
 "cells": [
  {
   "cell_type": "code",
   "execution_count": 57,
   "id": "c2fe736d",
   "metadata": {},
   "outputs": [],
   "source": [
    "import logging as lg\n",
    "lg.basicConfig(filename='sqldb.log', level='INFO', format='%(asctime)s %(levelname)s %(msg)s')"
   ]
  },
  {
   "cell_type": "code",
   "execution_count": 58,
   "id": "b6153406",
   "metadata": {},
   "outputs": [],
   "source": [
    "import mysql.connector as connection\n",
    "lg.info('imported mysql.connector as connection')"
   ]
  },
  {
   "cell_type": "code",
   "execution_count": 59,
   "id": "f13e59a3",
   "metadata": {},
   "outputs": [
    {
     "name": "stdout",
     "output_type": "stream",
     "text": [
      "host: localhost\n",
      "user: root\n",
      "password:password\n"
     ]
    }
   ],
   "source": [
    "try:\n",
    "    mydb=connection.connect(host=input('host: '), user=input('user: '), password=input('password:'))\n",
    "    lg.info('connection created')\n",
    "except Exception as e:\n",
    "    lg.exception('exception occured to create connection: ',e)"
   ]
  },
  {
   "cell_type": "code",
   "execution_count": 60,
   "id": "3cdcd274",
   "metadata": {},
   "outputs": [],
   "source": [
    "try:\n",
    "    query='CREATE DATABASE cardataset'\n",
    "    cursor=mydb.cursor()\n",
    "    cursor.execute(query)\n",
    "    lg.info('database created')\n",
    "except Exception as e:\n",
    "    print(e)\n",
    "    lg.exception('exception occured to create database: ',e)"
   ]
  },
  {
   "cell_type": "code",
   "execution_count": 61,
   "id": "d6521576",
   "metadata": {},
   "outputs": [],
   "source": [
    "try:\n",
    "    query='CREATE TABLE cardataset.car(buying VARCHAR(10), maint VARCHAR(10), doors VARCHAR(10), persons VARCHAR(10), lug_boot VARCHAR(10), safety VARCHAR(10), class_values VARCHAR(10))'\n",
    "    cursor=mydb.cursor()\n",
    "    cursor.execute(query)\n",
    "    lg.info('Table created')\n",
    "except Exception as e:\n",
    "    print(e)\n",
    "    lg.exception('Table created')"
   ]
  },
  {
   "cell_type": "code",
   "execution_count": 62,
   "id": "89ee7ad8",
   "metadata": {},
   "outputs": [],
   "source": [
    "try:\n",
    "    cursor=mydb.cursor()\n",
    "    with open('car.data', 'r') as f:\n",
    "        read_data=f.readlines()\n",
    "        for i in read_data:\n",
    "            i=i.rstrip().split(',')\n",
    "            query=\"INSERT INTO cardataset.car VALUES(%s, %s, %s, %s, %s, %s, %s)\"\n",
    "            cursor.execute(query, tuple(i))\n",
    "    mydb.commit()\n",
    "    lg.info('Data inserted into table successfully')\n",
    "except Exception as e:\n",
    "    lg.exception('exception occured to insert data into table: ',e)\n",
    "    print(e)"
   ]
  },
  {
   "cell_type": "code",
   "execution_count": 63,
   "id": "ca9034a7",
   "metadata": {},
   "outputs": [
    {
     "name": "stdout",
     "output_type": "stream",
     "text": [
      "All data inserted!\n"
     ]
    }
   ],
   "source": [
    "try:\n",
    "    query=\"SELECT COUNT(*) FROM cardataset.car\"\n",
    "    cursor=mydb.cursor()\n",
    "    cursor.execute(query)\n",
    "    db_len=cursor.fetchone()[0]\n",
    "    if db_len==len(read_data):\n",
    "        print('All data inserted!')\n",
    "        lg.info('All data inserted!')\n",
    "    else:\n",
    "        print('length of db data not equal to length of source data')\n",
    "        lg.info('length of db data not equal to length of source data')\n",
    "except Exception as e:\n",
    "    lg.exception('exception occured to check length of source and db data')\n",
    "    print(e)"
   ]
  },
  {
   "cell_type": "code",
   "execution_count": 64,
   "id": "6163cfcb",
   "metadata": {},
   "outputs": [
    {
     "name": "stdout",
     "output_type": "stream",
     "text": [
      "('vhigh', 432)\n",
      "('high', 432)\n",
      "('med', 432)\n",
      "('low', 432)\n"
     ]
    }
   ],
   "source": [
    "try:\n",
    "    query='SELECT buying, COUNT(*) FROM cardataset.car GROUP BY buying;'\n",
    "    cursor=mydb.cursor()\n",
    "    cursor.execute(query)\n",
    "    for i in cursor.fetchall():\n",
    "        print(i)\n",
    "    lg.info('GROUP BY successfully applied!')\n",
    "except Exception as e:\n",
    "    lg.exception('error occured to apply GROUP BY method: ',e)\n",
    "    print(e)"
   ]
  },
  {
   "cell_type": "code",
   "execution_count": 65,
   "id": "b9b0ceb2",
   "metadata": {},
   "outputs": [
    {
     "name": "stdout",
     "output_type": "stream",
     "text": [
      "('vhigh', 'vhigh', '4', '2', 'small', 'low', 'unacc')\n",
      "('vhigh', 'vhigh', '4', '2', 'small', 'med', 'unacc')\n",
      "('vhigh', 'vhigh', '4', '2', 'small', 'high', 'unacc')\n",
      "('vhigh', 'vhigh', '4', '2', 'med', 'low', 'unacc')\n",
      "('vhigh', 'vhigh', '4', '2', 'med', 'med', 'unacc')\n",
      "('vhigh', 'vhigh', '4', '2', 'med', 'high', 'unacc')\n",
      "('vhigh', 'vhigh', '4', '2', 'big', 'low', 'unacc')\n",
      "('vhigh', 'vhigh', '4', '2', 'big', 'med', 'unacc')\n",
      "('vhigh', 'vhigh', '4', '2', 'big', 'high', 'unacc')\n",
      "('vhigh', 'vhigh', '4', '4', 'small', 'low', 'unacc')\n"
     ]
    }
   ],
   "source": [
    "try:\n",
    "    query=\"SELECT * FROM cardataset.car WHERE doors='4' LIMIT 10\"\n",
    "    cursor=mydb.cursor()\n",
    "    cursor.execute(query)\n",
    "    for i in cursor.fetchall():\n",
    "        print(i)\n",
    "    lg.info('SELECTION method applied sucessfully!')\n",
    "except Exception as e:\n",
    "    lg.exception('exception occured to apply selection: ',e)\n",
    "    print(e)"
   ]
  },
  {
   "cell_type": "code",
   "execution_count": 66,
   "id": "19249c57",
   "metadata": {},
   "outputs": [],
   "source": [
    "try:\n",
    "    query=\"UPDATE cardataset.car SET doors='8' WHERE doors='2'\"\n",
    "    cursor=mydb.cursor()\n",
    "    cursor.execute(query)\n",
    "    lg.info('updated table successfully!')\n",
    "except Exception as e:\n",
    "    lg.exception('exception occured to update table')\n",
    "    print(e)"
   ]
  },
  {
   "cell_type": "code",
   "execution_count": 67,
   "id": "507cc516",
   "metadata": {},
   "outputs": [
    {
     "name": "stdout",
     "output_type": "stream",
     "text": [
      "Table deleted!\n"
     ]
    }
   ],
   "source": [
    "try:\n",
    "    query=\"DROP TABLE cardataset.car\"\n",
    "    cursor=mydb.cursor()\n",
    "    cursor.execute(query)\n",
    "    mydb.commit()\n",
    "    print('Table deleted!')\n",
    "    lg.info('Table dropped')\n",
    "except Exception as e:\n",
    "    lg.exception('exception occured to drop table')\n",
    "    print(e)"
   ]
  },
  {
   "cell_type": "code",
   "execution_count": 68,
   "id": "45baace0",
   "metadata": {},
   "outputs": [
    {
     "name": "stdout",
     "output_type": "stream",
     "text": [
      "Database deleted!\n"
     ]
    }
   ],
   "source": [
    "try:\n",
    "    query=\"DROP DATABASE cardataset\"\n",
    "    cursor=mydb.cursor()\n",
    "    cursor.execute(query)\n",
    "    mydb.commit()\n",
    "    print('Database deleted!')\n",
    "    lg.info('Database dropped')\n",
    "except Exception as e:\n",
    "    lg.exception('exception occured to drop database')\n",
    "    print(e)"
   ]
  },
  {
   "cell_type": "code",
   "execution_count": null,
   "id": "ebef25ef",
   "metadata": {},
   "outputs": [],
   "source": []
  }
 ],
 "metadata": {
  "kernelspec": {
   "display_name": "Python 3 (ipykernel)",
   "language": "python",
   "name": "python3"
  },
  "language_info": {
   "codemirror_mode": {
    "name": "ipython",
    "version": 3
   },
   "file_extension": ".py",
   "mimetype": "text/x-python",
   "name": "python",
   "nbconvert_exporter": "python",
   "pygments_lexer": "ipython3",
   "version": "3.9.9"
  }
 },
 "nbformat": 4,
 "nbformat_minor": 5
}
