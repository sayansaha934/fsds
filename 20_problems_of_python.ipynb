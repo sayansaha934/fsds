{
 "cells": [
  {
   "cell_type": "code",
   "execution_count": 2,
   "id": "6d7b4cea",
   "metadata": {},
   "outputs": [],
   "source": [
    "#1 . you have to write a fun which will take string and return a len of it without using a inbuilt fun len\n",
    "def string_len(x):\n",
    "    '''\n",
    "    Returns length of string\n",
    "    '''\n",
    "    l=0\n",
    "    for i in x:\n",
    "        l=l+1\n",
    "    return l\n",
    "# string_len('kolkata')"
   ]
  },
  {
   "cell_type": "code",
   "execution_count": 3,
   "id": "e1684185",
   "metadata": {},
   "outputs": [],
   "source": [
    "#2 . write a fun which will be able to print an index of all premitive element which you will pass \n",
    "def find_index(element):\n",
    "    for i in range(len(element)):\n",
    "        print(i)\n",
    "# find_index([[1,2,3], (4,5,6), {9,9,8,2,8},45, 'great', 45.36])"
   ]
  },
  {
   "cell_type": "code",
   "execution_count": 4,
   "id": "b9be7654",
   "metadata": {},
   "outputs": [],
   "source": [
    "#3 . Write a fun which will take input as a dict and give me out as a list of all the values even in case of 2 level nesting it should work .\n",
    "def dic_values(d):\n",
    "    '''\n",
    "    Returns only values of dicitionary even it is a two level nesting\n",
    "    '''\n",
    "    l=[]\n",
    "    for i in d.values():\n",
    "        if type(i)==dict:\n",
    "            for j in i.values():\n",
    "                l.append(j)\n",
    "        else:\n",
    "            l.append(i)\n",
    "    return l\n",
    "# d={'key1':{'k1':1, 'k2':2, 'k3':3}, 'key2':45, 'key3':100, 'key4':{'k1':10, 'k2':20, 'k3':30}}\n",
    "# dic_values(d)"
   ]
  },
  {
   "cell_type": "code",
   "execution_count": 5,
   "id": "e05704f0",
   "metadata": {},
   "outputs": [],
   "source": [
    "# 4 . write a fun which will take another function as an input and return me an output \n",
    "def square_of_no(l):\n",
    "    '''\n",
    "    Returns square of number present in list\n",
    "    '''\n",
    "    l1=[]\n",
    "    for i in l:\n",
    "        l1.append(i**2)\n",
    "    return l1\n",
    "\n",
    "def square_add_no(l):\n",
    "    '''\n",
    "    Square the numbers present in list and then add 2 with each number resulting a list\n",
    "    '''\n",
    "    l1=square_of_no(l)\n",
    "    l2=[]\n",
    "    for i in l1:\n",
    "        l2.append(i+2)\n",
    "    return l2\n",
    "# square_add_no([1,2,3,4])"
   ]
  },
  {
   "cell_type": "code",
   "execution_count": 6,
   "id": "f0e7a144",
   "metadata": {},
   "outputs": [],
   "source": [
    "#5. write a function whihc will take multiple list as a input and give me concatnation of all the element as and output\n",
    "def list_concat(a,b,c,d):\n",
    "    '''\n",
    "    Returns concatenation of given lists\n",
    "    '''\n",
    "    l=[]\n",
    "    return l+a+b+c+d\n",
    "# list_concat([1,2,3],[45,87,52],[54,5,98],[78,89,5,69])"
   ]
  },
  {
   "cell_type": "code",
   "execution_count": 7,
   "id": "a4e9104e",
   "metadata": {},
   "outputs": [],
   "source": [
    "#6 . write a function which will be able to take a list as an input return an index of each element like a inbuilt index function but even if we have repetative element it should return index\n",
    "def find_index(l):\n",
    "    '''\n",
    "    Returns index of values in a list\n",
    "    '''\n",
    "    for i in range(len(l)):\n",
    "        print(i)\n",
    "# find_index([1,54,2,41])"
   ]
  },
  {
   "cell_type": "code",
   "execution_count": 8,
   "id": "214f0d4e",
   "metadata": {},
   "outputs": [],
   "source": [
    "#7 . Write a function which will whould return list of all the file name from a directory .\n",
    "def get_filename(x):\n",
    "    '''\n",
    "    Returns filenames of given dir. \n",
    "    '''\n",
    "    import os\n",
    "    return os.listdir(x)\n",
    "#get_filename('C:\\\\Users\\\\Sayan Saha\\\\Downloads')"
   ]
  },
  {
   "cell_type": "code",
   "execution_count": 9,
   "id": "12f6466b",
   "metadata": {},
   "outputs": [],
   "source": [
    "#8  . write a function which will be able to show your system configuration . \n",
    "def get_config():\n",
    "    '''\n",
    "    Returns system configuration\n",
    "    '''\n",
    "    import wmi\n",
    "    c=wmi.WMI()\n",
    "    my_system=c.Win32_ComputerSystem()[0]\n",
    "    print('Manufacturer:', my_system.Manufacturer)\n",
    "    print('Model:', my_system.Model)\n",
    "    print('Name:', my_system.Name)\n",
    "    print('Number Of Processors:', my_system.NumberOfProcessors)\n",
    "    print('SystemType:',my_system.SystemType)\n",
    "    print('SystemFamily:', my_system.SystemFamily)\n",
    "#get_config()"
   ]
  },
  {
   "cell_type": "code",
   "execution_count": 10,
   "id": "6070b341",
   "metadata": {},
   "outputs": [],
   "source": [
    "#9 . write a function which will be able to show date and time  .\n",
    "def get_date_time():\n",
    "    '''\n",
    "    Return current date time\n",
    "    '''\n",
    "    import datetime\n",
    "    return datetime.datetime.now().strftime(\"%d/%m/%Y, %H:%M:%S\")\n",
    "\n",
    "# get_date_time()"
   ]
  },
  {
   "cell_type": "code",
   "execution_count": 11,
   "id": "bce9b70d",
   "metadata": {},
   "outputs": [],
   "source": [
    "#10 . write a function whihc will be able to read a image file and show it to you .\n",
    "def open_img(x):\n",
    "    '''\n",
    "    Opens image file. Input path of picture dir\n",
    "    '''\n",
    "    import os\n",
    "    from PIL import Image\n",
    "    path=x\n",
    "    for i in os.listdir(path):\n",
    "        if i.endswith('.jpg') or i.endswith('.png'):\n",
    "            im=Image.open(path+'\\\\'+i)\n",
    "            im.show()\n",
    "# open_img('C:\\\\Users\\\\Sayan Saha\\\\Pictures')"
   ]
  },
  {
   "cell_type": "code",
   "execution_count": 12,
   "id": "dc547e6b",
   "metadata": {},
   "outputs": [],
   "source": [
    "#11. write a function which can read video file and play for you . "
   ]
  },
  {
   "cell_type": "code",
   "execution_count": 13,
   "id": "f6fbdb9f",
   "metadata": {},
   "outputs": [],
   "source": [
    "#12  . write a function whihc can move a file from one directory to another directory . \n",
    "def chng_dir(src, dst):\n",
    "    '''\n",
    "    Changes file from one dir to another dir\n",
    "    '''\n",
    "    import shutil\n",
    "    shutil.move(src,dst)\n",
    "# chng_dir('C:\\\\Users\\\\Sayan Saha\\\\Downloads\\\\test_video.mp4', 'C:\\\\Users\\\\Sayan Saha\\\\Videos')"
   ]
  },
  {
   "cell_type": "code",
   "execution_count": 14,
   "id": "047146e6",
   "metadata": {},
   "outputs": [],
   "source": [
    "#13 . write a function which will be able to shutdonw your system . \n",
    "def shutdown():\n",
    "    '''\n",
    "    It shutdowns your system\n",
    "    '''\n",
    "    import os\n",
    "    a=input('Do you want to shutdown your system? (y/n)')\n",
    "    if a==\"n\":\n",
    "        exit()\n",
    "    else:\n",
    "        os.system('shutdown /s /t 5')"
   ]
  },
  {
   "cell_type": "code",
   "execution_count": 22,
   "id": "16e00b92",
   "metadata": {},
   "outputs": [],
   "source": [
    "#14 . write a function whihc will be able to access your mail . \n",
    "\n",
    "def read_email_from_gmail():\n",
    "    '''\n",
    "    Access your email\n",
    "    '''\n",
    "    import smtplib\n",
    "    import time\n",
    "    import imaplib\n",
    "    import email\n",
    "    FROM_EMAIL=input('Enter your email id: ')\n",
    "    FROM_PWD=input('Enter your password: ')\n",
    "    SMTP_SERVER='imap.gmail.com'\n",
    "    SMTP_PORT=993\n",
    "\n",
    "    mail=imaplib.IMAP4_SSL(SMTP_SERVER)\n",
    "    mail.login(FROM_EMAIL, FROM_PWD)\n",
    "    mail.select('inbox')\n",
    "    data=mail.search(None, 'ALL')\n",
    "    mail_ids=data[1]\n",
    "    id_list=mail_ids[0].split()\n",
    "    \n",
    "    first_email_id=int(id_list[0])\n",
    "    latest_email_id=int(id_list[-1])\n",
    "    for i in range(latest_email_id, first_email_id, -1):\n",
    "        data=mail.fetch(str(i), '(RFC822)')\n",
    "        for response_part in data:\n",
    "            arr=response_part[0]\n",
    "            if isinstance(arr, tuple):\n",
    "                msg=email.message_from_string(str(arr[1], 'utf-8'))\n",
    "                email_subject=msg['subject']\n",
    "                email_from=msg['from']\n",
    "                print('email from:'+email_from+'\\n')\n",
    "                print('email subject:'+email_subject+'\\n')\n",
    "# read_email_from_gmail()"
   ]
  },
  {
   "cell_type": "code",
   "execution_count": 25,
   "id": "9e50845f",
   "metadata": {},
   "outputs": [],
   "source": [
    "#15 . write a func bywhcih i can send a mail to anyone \n",
    "def send_email():\n",
    "    '''\n",
    "    It sends email\n",
    "    '''\n",
    "    sender_email_id=input('Enter your email id: ')\n",
    "    password=input('Enter your password: ')\n",
    "    receiver_email_id=input('Enter receiver email id: ')\n",
    "    msg=input('Enter your message: ')\n",
    "    import smtplib\n",
    "    s=smtplib.SMTP('smtp.gmail.com', 587)\n",
    "    s.starttls()\n",
    "    s.login(sender_email_id, password)\n",
    "    s.sendmail(sender_email_id, receiver_email_id, msg)\n",
    "    s.quit()\n",
    "    \n",
    "# send_email()  "
   ]
  },
  {
   "cell_type": "code",
   "execution_count": 15,
   "id": "cde5693d",
   "metadata": {},
   "outputs": [],
   "source": [
    "#16. write a func to read a complete PDf file . \n",
    "def read_pdf(file_name):\n",
    "    '''\n",
    "    It reads pdf file\n",
    "    '''\n",
    "    f=open(file_name, 'r')\n",
    "    a=f.read()\n",
    "    f.close()\n",
    "    return a\n",
    "# read_pdf('the_golden_bird.pdf')"
   ]
  },
  {
   "cell_type": "code",
   "execution_count": 16,
   "id": "c00a2e80",
   "metadata": {},
   "outputs": [],
   "source": [
    "#17. write a function to read a word file . \n",
    "def read_doc(file_name):\n",
    "    '''\n",
    "    It reads docx file\n",
    "    '''\n",
    "    import docx2txt\n",
    "    read_text=docx2txt.process(file_name)\n",
    "    return read_text\n",
    "# read_doc('Assignment_1.docx')"
   ]
  },
  {
   "cell_type": "code",
   "execution_count": 17,
   "id": "6ba3ca13",
   "metadata": {},
   "outputs": [],
   "source": [
    "#18 . write a function which can help you to filter only word file from a directory . \n",
    "def get_doc(path):\n",
    "    import os\n",
    "    l=[]\n",
    "    for i in os.listdir(path):\n",
    "        if i.endswith('.docx'):\n",
    "            l.append(i)\n",
    "    return l\n",
    "# get_doc('C:\\\\Users\\\\Sayan Saha\\\\Downloads')"
   ]
  },
  {
   "cell_type": "code",
   "execution_count": 18,
   "id": "72619f8b",
   "metadata": {},
   "outputs": [],
   "source": [
    "#19 . write a function by which you can print an ip address of your system . \n",
    "def get_ip():\n",
    "    import socket\n",
    "    return socket.gethostbyname(socket.gethostname())\n",
    "# get_ip()"
   ]
  },
  {
   "cell_type": "code",
   "execution_count": 19,
   "id": "823d4339",
   "metadata": {},
   "outputs": [],
   "source": [
    "#20 . write a function by which you will be able to append two PDF files . \n",
    "def merge_pdf(pdfs):\n",
    "    import PyPDF2\n",
    "    merger=PyPDF2.PdfFileMerger()\n",
    "    for pdf in pdfs:\n",
    "        merger.append(PyPDF2.PdfFileReader(pdf, 'rb'))\n",
    "    merger.write('result.pdf')\n",
    "    \n",
    "# merge_pdf(['the_brothers_grimm_fairy_tales.pdf', 'the_golden_bird.pdf'])"
   ]
  }
 ],
 "metadata": {
  "kernelspec": {
   "display_name": "Python 3 (ipykernel)",
   "language": "python",
   "name": "python3"
  },
  "language_info": {
   "codemirror_mode": {
    "name": "ipython",
    "version": 3
   },
   "file_extension": ".py",
   "mimetype": "text/x-python",
   "name": "python",
   "nbconvert_exporter": "python",
   "pygments_lexer": "ipython3",
   "version": "3.9.9"
  }
 },
 "nbformat": 4,
 "nbformat_minor": 5
}
